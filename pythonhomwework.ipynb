{
  "nbformat": 4,
  "nbformat_minor": 0,
  "metadata": {
    "colab": {
      "name": "pythonhomwework.ipynb",
      "provenance": []
    },
    "kernelspec": {
      "name": "python3",
      "display_name": "Python 3"
    },
    "language_info": {
      "name": "python"
    }
  },
  "cells": [
    {
      "cell_type": "code",
      "metadata": {
        "colab": {
          "base_uri": "https://localhost:8080/"
        },
        "id": "izukI_ses-Gy",
        "outputId": "e51c3554-e32c-4908-b92c-0282fc1f5a5d"
      },
      "source": [
        "rows = int(input(\"Enter number of rows: \"))\n",
        "\n",
        "k = 0\n",
        "\n",
        "for i in range(1, rows+1):\n",
        "    for space in range(1, (rows-i)+1):\n",
        "        print(end=\"  \")\n",
        "   \n",
        "    while k!=(2*i-1):\n",
        "        print(\"* \", end=\"\")\n",
        "        k += 1\n",
        "   \n",
        "    k = 0\n",
        "    print()"
      ],
      "execution_count": 3,
      "outputs": [
        {
          "output_type": "stream",
          "text": [
            "Enter number of rows: 10\n",
            "                  * \n",
            "                * * * \n",
            "              * * * * * \n",
            "            * * * * * * * \n",
            "          * * * * * * * * * \n",
            "        * * * * * * * * * * * \n",
            "      * * * * * * * * * * * * * \n",
            "    * * * * * * * * * * * * * * * \n",
            "  * * * * * * * * * * * * * * * * * \n",
            "* * * * * * * * * * * * * * * * * * * \n"
          ],
          "name": "stdout"
        }
      ]
    }
  ]
}